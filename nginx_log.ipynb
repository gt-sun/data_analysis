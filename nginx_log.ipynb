{
 "cells": [
  {
   "cell_type": "code",
   "execution_count": 2,
   "metadata": {
    "collapsed": false
   },
   "outputs": [],
   "source": [
    "import pandas as pd\n",
    "import numpy as np\n",
    "import matplotlib.pyplot as plt\n",
    "%matplotlib inline\n",
    "import apachelog"
   ]
  },
  {
   "cell_type": "code",
   "execution_count": 6,
   "metadata": {
    "collapsed": false
   },
   "outputs": [
    {
     "data": {
      "text/plain": [
       "{'%>s': '200',\n",
       " '%b': '139',\n",
       " '%h': '113.5.2.10',\n",
       " '%i': '-',\n",
       " '%l': '-',\n",
       " '%r': 'POST /KaQuService/2.3/user/checkIn.json HTTP/1.1',\n",
       " '%t': '[25/Apr/2016:06:26:13 +0800]',\n",
       " '%u': '-',\n",
       " '%{User-Agent}i': 'Mozilla/5.0 (X11; U; Linux i686; zh-CN; rv:1.9.2.15) Gecko/20110303 Ubuntu/10.10 (maverick) Firefox/3.6.15'}"
      ]
     },
     "execution_count": 6,
     "metadata": {},
     "output_type": "execute_result"
    }
   ],
   "source": [
    "sample_string = '113.5.2.10 - - [25/Apr/2016:06:26:13 +0800] \"POST /KaQuService/2.3/user/checkIn.json HTTP/1.1\" 200 139 \"-\" \"Mozilla/5.0 (X11; U; Linux i686; zh-CN; rv:1.9.2.15) Gecko/20110303 Ubuntu/10.10 (maverick) Firefox/3.6.15\"'\n",
    "nformat = r'%h %l %u %t \\\"%r\\\" %>s %b \\\"%i\\\" \\\"%{User-Agent}i\\\"'\n",
    "p = apachelog.parser(nformat)\n",
    "data = p.parse(sample_string)\n",
    "data"
   ]
  },
  {
   "cell_type": "code",
   "execution_count": 8,
   "metadata": {
    "collapsed": false
   },
   "outputs": [
    {
     "data": {
      "text/html": [
       "<div>\n",
       "<table border=\"1\" class=\"dataframe\">\n",
       "  <thead>\n",
       "    <tr style=\"text-align: right;\">\n",
       "      <th></th>\n",
       "      <th>%&gt;s</th>\n",
       "      <th>%b</th>\n",
       "      <th>%h</th>\n",
       "      <th>%i</th>\n",
       "      <th>%l</th>\n",
       "      <th>%r</th>\n",
       "      <th>%t</th>\n",
       "      <th>%u</th>\n",
       "      <th>%{User-Agent}i</th>\n",
       "    </tr>\n",
       "  </thead>\n",
       "  <tbody>\n",
       "    <tr>\n",
       "      <th>0</th>\n",
       "      <td>200</td>\n",
       "      <td>12242</td>\n",
       "      <td>211.161.248.233</td>\n",
       "      <td>http://thirdparty.cardqu.com/rip/yishi.php?wei...</td>\n",
       "      <td>-</td>\n",
       "      <td>GET /rip/jquery/jquery.form.js HTTP/1.1</td>\n",
       "      <td>24/Apr/2016 22:54:38 +0800</td>\n",
       "      <td>-</td>\n",
       "      <td>Mozilla/5.0 (iPhone; CPU iPhone OS 9_3_1 like ...</td>\n",
       "    </tr>\n",
       "    <tr>\n",
       "      <th>1</th>\n",
       "      <td>200</td>\n",
       "      <td>2051</td>\n",
       "      <td>211.161.248.233</td>\n",
       "      <td>http://thirdparty.cardqu.com/rip/yishi.php?wei...</td>\n",
       "      <td>-</td>\n",
       "      <td>GET /rip/img/meishi_03.png HTTP/1.1</td>\n",
       "      <td>24/Apr/2016 22:54:38 +0800</td>\n",
       "      <td>-</td>\n",
       "      <td>Mozilla/5.0 (iPhone; CPU iPhone OS 9_3_1 like ...</td>\n",
       "    </tr>\n",
       "    <tr>\n",
       "      <th>2</th>\n",
       "      <td>200</td>\n",
       "      <td>33492</td>\n",
       "      <td>211.161.248.233</td>\n",
       "      <td>http://thirdparty.cardqu.com/rip/yishi.php?wei...</td>\n",
       "      <td>-</td>\n",
       "      <td>GET /rip/jquery/jquery-1.8.3.min.js HTTP/1.1</td>\n",
       "      <td>24/Apr/2016 22:54:38 +0800</td>\n",
       "      <td>-</td>\n",
       "      <td>Mozilla/5.0 (iPhone; CPU iPhone OS 9_3_1 like ...</td>\n",
       "    </tr>\n",
       "    <tr>\n",
       "      <th>3</th>\n",
       "      <td>200</td>\n",
       "      <td>29726</td>\n",
       "      <td>211.161.248.233</td>\n",
       "      <td>http://thirdparty.cardqu.com/rip/yishi.php?wei...</td>\n",
       "      <td>-</td>\n",
       "      <td>GET /rip/img/0-06_06.png HTTP/1.1</td>\n",
       "      <td>24/Apr/2016 22:54:38 +0800</td>\n",
       "      <td>-</td>\n",
       "      <td>Mozilla/5.0 (iPhone; CPU iPhone OS 9_3_1 like ...</td>\n",
       "    </tr>\n",
       "    <tr>\n",
       "      <th>4</th>\n",
       "      <td>200</td>\n",
       "      <td>90037</td>\n",
       "      <td>211.161.248.233</td>\n",
       "      <td>http://thirdparty.cardqu.com/rip/yishi.php?wei...</td>\n",
       "      <td>-</td>\n",
       "      <td>GET /rip/img/yidali_title.jpg HTTP/1.1</td>\n",
       "      <td>24/Apr/2016 22:54:38 +0800</td>\n",
       "      <td>-</td>\n",
       "      <td>Mozilla/5.0 (iPhone; CPU iPhone OS 9_3_1 like ...</td>\n",
       "    </tr>\n",
       "  </tbody>\n",
       "</table>\n",
       "</div>"
      ],
      "text/plain": [
       "   %>s     %b               %h  \\\n",
       "0  200  12242  211.161.248.233   \n",
       "1  200   2051  211.161.248.233   \n",
       "2  200  33492  211.161.248.233   \n",
       "3  200  29726  211.161.248.233   \n",
       "4  200  90037  211.161.248.233   \n",
       "\n",
       "                                                  %i %l  \\\n",
       "0  http://thirdparty.cardqu.com/rip/yishi.php?wei...  -   \n",
       "1  http://thirdparty.cardqu.com/rip/yishi.php?wei...  -   \n",
       "2  http://thirdparty.cardqu.com/rip/yishi.php?wei...  -   \n",
       "3  http://thirdparty.cardqu.com/rip/yishi.php?wei...  -   \n",
       "4  http://thirdparty.cardqu.com/rip/yishi.php?wei...  -   \n",
       "\n",
       "                                             %r                          %t  \\\n",
       "0       GET /rip/jquery/jquery.form.js HTTP/1.1  24/Apr/2016 22:54:38 +0800   \n",
       "1           GET /rip/img/meishi_03.png HTTP/1.1  24/Apr/2016 22:54:38 +0800   \n",
       "2  GET /rip/jquery/jquery-1.8.3.min.js HTTP/1.1  24/Apr/2016 22:54:38 +0800   \n",
       "3             GET /rip/img/0-06_06.png HTTP/1.1  24/Apr/2016 22:54:38 +0800   \n",
       "4        GET /rip/img/yidali_title.jpg HTTP/1.1  24/Apr/2016 22:54:38 +0800   \n",
       "\n",
       "  %u                                     %{User-Agent}i  \n",
       "0  -  Mozilla/5.0 (iPhone; CPU iPhone OS 9_3_1 like ...  \n",
       "1  -  Mozilla/5.0 (iPhone; CPU iPhone OS 9_3_1 like ...  \n",
       "2  -  Mozilla/5.0 (iPhone; CPU iPhone OS 9_3_1 like ...  \n",
       "3  -  Mozilla/5.0 (iPhone; CPU iPhone OS 9_3_1 like ...  \n",
       "4  -  Mozilla/5.0 (iPhone; CPU iPhone OS 9_3_1 like ...  "
      ]
     },
     "execution_count": 8,
     "metadata": {},
     "output_type": "execute_result"
    }
   ],
   "source": [
    "from apachelog import ApacheLogParserError\n",
    "log_list = []\n",
    "with open('./access.log.3') as f:\n",
    "    for line in f.readlines():\n",
    "        try:\n",
    "            data = p.parse(line)\n",
    "        except ApacheLogParserError:\n",
    "            sys.stderr.write(\"Unable to parse %s\" % line)\n",
    "        data['%t'] = data['%t'][1:12]+' '+data['%t'][13:21]+' '+data['%t'][22:27]\n",
    "        log_list.append(data)\n",
    "df = pd.DataFrame(log_list)\n",
    "df.head()"
   ]
  },
  {
   "cell_type": "code",
   "execution_count": 9,
   "metadata": {
    "collapsed": false
   },
   "outputs": [
    {
     "data": {
      "text/plain": [
       "(9615, 9)"
      ]
     },
     "execution_count": 9,
     "metadata": {},
     "output_type": "execute_result"
    }
   ],
   "source": [
    "df.shape"
   ]
  },
  {
   "cell_type": "code",
   "execution_count": 10,
   "metadata": {
    "collapsed": false
   },
   "outputs": [
    {
     "data": {
      "text/html": [
       "<div>\n",
       "<table border=\"1\" class=\"dataframe\">\n",
       "  <thead>\n",
       "    <tr style=\"text-align: right;\">\n",
       "      <th></th>\n",
       "      <th>%&gt;s</th>\n",
       "      <th>%b</th>\n",
       "      <th>%r</th>\n",
       "      <th>%t</th>\n",
       "    </tr>\n",
       "  </thead>\n",
       "  <tbody>\n",
       "    <tr>\n",
       "      <th>0</th>\n",
       "      <td>200</td>\n",
       "      <td>12242</td>\n",
       "      <td>GET /rip/jquery/jquery.form.js HTTP/1.1</td>\n",
       "      <td>24/Apr/2016 22:54:38 +0800</td>\n",
       "    </tr>\n",
       "    <tr>\n",
       "      <th>1</th>\n",
       "      <td>200</td>\n",
       "      <td>2051</td>\n",
       "      <td>GET /rip/img/meishi_03.png HTTP/1.1</td>\n",
       "      <td>24/Apr/2016 22:54:38 +0800</td>\n",
       "    </tr>\n",
       "  </tbody>\n",
       "</table>\n",
       "</div>"
      ],
      "text/plain": [
       "   %>s     %b                                       %r  \\\n",
       "0  200  12242  GET /rip/jquery/jquery.form.js HTTP/1.1   \n",
       "1  200   2051      GET /rip/img/meishi_03.png HTTP/1.1   \n",
       "\n",
       "                           %t  \n",
       "0  24/Apr/2016 22:54:38 +0800  \n",
       "1  24/Apr/2016 22:54:38 +0800  "
      ]
     },
     "execution_count": 10,
     "metadata": {},
     "output_type": "execute_result"
    }
   ],
   "source": [
    "del df['%h']\n",
    "del df['%i']\n",
    "del df['%l']\n",
    "del df['%u']\n",
    "del df['%{User-Agent}i']\n",
    "df[0:2]"
   ]
  },
  {
   "cell_type": "code",
   "execution_count": 12,
   "metadata": {
    "collapsed": false
   },
   "outputs": [
    {
     "data": {
      "text/html": [
       "<div>\n",
       "<table border=\"1\" class=\"dataframe\">\n",
       "  <thead>\n",
       "    <tr style=\"text-align: right;\">\n",
       "      <th></th>\n",
       "      <th>Status</th>\n",
       "      <th>b</th>\n",
       "      <th>Request</th>\n",
       "      <th>Time</th>\n",
       "    </tr>\n",
       "  </thead>\n",
       "  <tbody>\n",
       "    <tr>\n",
       "      <th>0</th>\n",
       "      <td>200</td>\n",
       "      <td>12242</td>\n",
       "      <td>GET /rip/jquery/jquery.form.js HTTP/1.1</td>\n",
       "      <td>24/Apr/2016 22:54:38 +0800</td>\n",
       "    </tr>\n",
       "    <tr>\n",
       "      <th>1</th>\n",
       "      <td>200</td>\n",
       "      <td>2051</td>\n",
       "      <td>GET /rip/img/meishi_03.png HTTP/1.1</td>\n",
       "      <td>24/Apr/2016 22:54:38 +0800</td>\n",
       "    </tr>\n",
       "    <tr>\n",
       "      <th>2</th>\n",
       "      <td>200</td>\n",
       "      <td>33492</td>\n",
       "      <td>GET /rip/jquery/jquery-1.8.3.min.js HTTP/1.1</td>\n",
       "      <td>24/Apr/2016 22:54:38 +0800</td>\n",
       "    </tr>\n",
       "    <tr>\n",
       "      <th>3</th>\n",
       "      <td>200</td>\n",
       "      <td>29726</td>\n",
       "      <td>GET /rip/img/0-06_06.png HTTP/1.1</td>\n",
       "      <td>24/Apr/2016 22:54:38 +0800</td>\n",
       "    </tr>\n",
       "    <tr>\n",
       "      <th>4</th>\n",
       "      <td>200</td>\n",
       "      <td>90037</td>\n",
       "      <td>GET /rip/img/yidali_title.jpg HTTP/1.1</td>\n",
       "      <td>24/Apr/2016 22:54:38 +0800</td>\n",
       "    </tr>\n",
       "  </tbody>\n",
       "</table>\n",
       "</div>"
      ],
      "text/plain": [
       "  Status      b                                       Request  \\\n",
       "0    200  12242       GET /rip/jquery/jquery.form.js HTTP/1.1   \n",
       "1    200   2051           GET /rip/img/meishi_03.png HTTP/1.1   \n",
       "2    200  33492  GET /rip/jquery/jquery-1.8.3.min.js HTTP/1.1   \n",
       "3    200  29726             GET /rip/img/0-06_06.png HTTP/1.1   \n",
       "4    200  90037        GET /rip/img/yidali_title.jpg HTTP/1.1   \n",
       "\n",
       "                         Time  \n",
       "0  24/Apr/2016 22:54:38 +0800  \n",
       "1  24/Apr/2016 22:54:38 +0800  \n",
       "2  24/Apr/2016 22:54:38 +0800  \n",
       "3  24/Apr/2016 22:54:38 +0800  \n",
       "4  24/Apr/2016 22:54:38 +0800  "
      ]
     },
     "execution_count": 12,
     "metadata": {},
     "output_type": "execute_result"
    }
   ],
   "source": [
    "df.rename(columns={\"%>s\":\"Status\", \"%b\":\"b\", \"%r\":\"Request\", \"%t\":\"Time\"}, inplace=True)\n",
    "df.head()"
   ]
  },
  {
   "cell_type": "code",
   "execution_count": 13,
   "metadata": {
    "collapsed": false
   },
   "outputs": [
    {
     "data": {
      "text/html": [
       "<div>\n",
       "<table border=\"1\" class=\"dataframe\">\n",
       "  <thead>\n",
       "    <tr style=\"text-align: right;\">\n",
       "      <th></th>\n",
       "      <th>Status</th>\n",
       "      <th>b</th>\n",
       "      <th>Request</th>\n",
       "    </tr>\n",
       "    <tr>\n",
       "      <th>Time</th>\n",
       "      <th></th>\n",
       "      <th></th>\n",
       "      <th></th>\n",
       "    </tr>\n",
       "  </thead>\n",
       "  <tbody>\n",
       "    <tr>\n",
       "      <th>2016-04-24 14:54:38</th>\n",
       "      <td>200</td>\n",
       "      <td>12242</td>\n",
       "      <td>GET /rip/jquery/jquery.form.js HTTP/1.1</td>\n",
       "    </tr>\n",
       "    <tr>\n",
       "      <th>2016-04-24 14:54:38</th>\n",
       "      <td>200</td>\n",
       "      <td>2051</td>\n",
       "      <td>GET /rip/img/meishi_03.png HTTP/1.1</td>\n",
       "    </tr>\n",
       "    <tr>\n",
       "      <th>2016-04-24 14:54:38</th>\n",
       "      <td>200</td>\n",
       "      <td>33492</td>\n",
       "      <td>GET /rip/jquery/jquery-1.8.3.min.js HTTP/1.1</td>\n",
       "    </tr>\n",
       "    <tr>\n",
       "      <th>2016-04-24 14:54:38</th>\n",
       "      <td>200</td>\n",
       "      <td>29726</td>\n",
       "      <td>GET /rip/img/0-06_06.png HTTP/1.1</td>\n",
       "    </tr>\n",
       "    <tr>\n",
       "      <th>2016-04-24 14:54:38</th>\n",
       "      <td>200</td>\n",
       "      <td>90037</td>\n",
       "      <td>GET /rip/img/yidali_title.jpg HTTP/1.1</td>\n",
       "    </tr>\n",
       "  </tbody>\n",
       "</table>\n",
       "</div>"
      ],
      "text/plain": [
       "                    Status      b  \\\n",
       "Time                                \n",
       "2016-04-24 14:54:38    200  12242   \n",
       "2016-04-24 14:54:38    200   2051   \n",
       "2016-04-24 14:54:38    200  33492   \n",
       "2016-04-24 14:54:38    200  29726   \n",
       "2016-04-24 14:54:38    200  90037   \n",
       "\n",
       "                                                          Request  \n",
       "Time                                                               \n",
       "2016-04-24 14:54:38       GET /rip/jquery/jquery.form.js HTTP/1.1  \n",
       "2016-04-24 14:54:38           GET /rip/img/meishi_03.png HTTP/1.1  \n",
       "2016-04-24 14:54:38  GET /rip/jquery/jquery-1.8.3.min.js HTTP/1.1  \n",
       "2016-04-24 14:54:38             GET /rip/img/0-06_06.png HTTP/1.1  \n",
       "2016-04-24 14:54:38        GET /rip/img/yidali_title.jpg HTTP/1.1  "
      ]
     },
     "execution_count": 13,
     "metadata": {},
     "output_type": "execute_result"
    }
   ],
   "source": [
    "df.index = pd.to_datetime(df.pop(\"Time\"))\n",
    "df.head()"
   ]
  },
  {
   "cell_type": "code",
   "execution_count": 14,
   "metadata": {
    "collapsed": false
   },
   "outputs": [
    {
     "data": {
      "text/html": [
       "<div>\n",
       "<table border=\"1\" class=\"dataframe\">\n",
       "  <thead>\n",
       "    <tr style=\"text-align: right;\">\n",
       "      <th></th>\n",
       "      <th>Status</th>\n",
       "      <th>b</th>\n",
       "      <th>Request</th>\n",
       "    </tr>\n",
       "    <tr>\n",
       "      <th>Time</th>\n",
       "      <th></th>\n",
       "      <th></th>\n",
       "      <th></th>\n",
       "    </tr>\n",
       "  </thead>\n",
       "  <tbody>\n",
       "    <tr>\n",
       "      <th>2016-04-24 14:54:38</th>\n",
       "      <td>200</td>\n",
       "      <td>0.011675</td>\n",
       "      <td>GET /rip/jquery/jquery.form.js HTTP/1.1</td>\n",
       "    </tr>\n",
       "    <tr>\n",
       "      <th>2016-04-24 14:54:38</th>\n",
       "      <td>200</td>\n",
       "      <td>0.001956</td>\n",
       "      <td>GET /rip/img/meishi_03.png HTTP/1.1</td>\n",
       "    </tr>\n",
       "    <tr>\n",
       "      <th>2016-04-24 14:54:38</th>\n",
       "      <td>200</td>\n",
       "      <td>0.031940</td>\n",
       "      <td>GET /rip/jquery/jquery-1.8.3.min.js HTTP/1.1</td>\n",
       "    </tr>\n",
       "    <tr>\n",
       "      <th>2016-04-24 14:54:38</th>\n",
       "      <td>200</td>\n",
       "      <td>0.028349</td>\n",
       "      <td>GET /rip/img/0-06_06.png HTTP/1.1</td>\n",
       "    </tr>\n",
       "    <tr>\n",
       "      <th>2016-04-24 14:54:38</th>\n",
       "      <td>200</td>\n",
       "      <td>0.085866</td>\n",
       "      <td>GET /rip/img/yidali_title.jpg HTTP/1.1</td>\n",
       "    </tr>\n",
       "  </tbody>\n",
       "</table>\n",
       "</div>"
      ],
      "text/plain": [
       "                    Status         b  \\\n",
       "Time                                   \n",
       "2016-04-24 14:54:38    200  0.011675   \n",
       "2016-04-24 14:54:38    200  0.001956   \n",
       "2016-04-24 14:54:38    200  0.031940   \n",
       "2016-04-24 14:54:38    200  0.028349   \n",
       "2016-04-24 14:54:38    200  0.085866   \n",
       "\n",
       "                                                          Request  \n",
       "Time                                                               \n",
       "2016-04-24 14:54:38       GET /rip/jquery/jquery.form.js HTTP/1.1  \n",
       "2016-04-24 14:54:38           GET /rip/img/meishi_03.png HTTP/1.1  \n",
       "2016-04-24 14:54:38  GET /rip/jquery/jquery-1.8.3.min.js HTTP/1.1  \n",
       "2016-04-24 14:54:38             GET /rip/img/0-06_06.png HTTP/1.1  \n",
       "2016-04-24 14:54:38        GET /rip/img/yidali_title.jpg HTTP/1.1  "
      ]
     },
     "execution_count": 14,
     "metadata": {},
     "output_type": "execute_result"
    }
   ],
   "source": [
    "def col_b2M(row):\n",
    "    if row == '-':\n",
    "        row = pd.nan\n",
    "    else:\n",
    "        row = float(row)/1048576  #转为M\n",
    "    return row\n",
    "df[\"b\"] = df[\"b\"].apply(col_b2M)\n",
    "df.head()"
   ]
  },
  {
   "cell_type": "code",
   "execution_count": 18,
   "metadata": {
    "collapsed": false
   },
   "outputs": [
    {
     "data": {
      "text/plain": [
       "<matplotlib.axes._subplots.AxesSubplot at 0x7f0dad474ac8>"
      ]
     },
     "execution_count": 18,
     "metadata": {},
     "output_type": "execute_result"
    },
    {
     "data": {
      "image/png": "[encoded data removed]",
      "text/plain": [
       "<matplotlib.figure.Figure at 0x7f0dad479f98>"
      ]
     },
     "metadata": {},
     "output_type": "display_data"
    }
   ],
   "source": [
    "#统计访问数\n",
    "fig = plt.figure(figsize=(10,5))\n",
    "df_s = df[\"Status\"].resample('5t').count()  #5分钟\n",
    "df_s.plot()"
   ]
  },
  {
   "cell_type": "code",
   "execution_count": 19,
   "metadata": {
    "collapsed": false
   },
   "outputs": [
    {
     "data": {
      "text/plain": [
       "200    7208\n",
       "304    1155\n",
       "404     685\n",
       "302     388\n",
       "206     119\n",
       "499      23\n",
       "403      22\n",
       "400       8\n",
       "301       7\n",
       "Name: Status, dtype: int64"
      ]
     },
     "execution_count": 19,
     "metadata": {},
     "output_type": "execute_result"
    }
   ],
   "source": [
    "df[\"Status\"].value_counts()"
   ]
  },
  {
   "cell_type": "code",
   "execution_count": 21,
   "metadata": {
    "collapsed": false
   },
   "outputs": [
    {
     "data": {
      "text/plain": [
       "HEAD / HTTP/1.1                                   1089\n",
       "POST /KaQuThirdParty/wechat/sign.json HTTP/1.1     593\n",
       "HEAD /favicon.ico HTTP/1.0                         450\n",
       "POST /KaQuService/2.3/user/login.json HTTP/1.1     358\n",
       "GET /rip/img/yidali_title.jpg HTTP/1.1             214\n",
       "GET /rip/img/meishi_05.png HTTP/1.1                208\n",
       "GET /rip/img/meishi_03.png HTTP/1.1                208\n",
       "GET /rip/img/share.png HTTP/1.1                    207\n",
       "GET /rip/img/page5_02.png HTTP/1.1                 207\n",
       "GET /rip/css/style.css HTTP/1.1                    202\n",
       "GET /rip/css/animate.min.css HTTP/1.1              199\n",
       "GET /rip/img/0-06_yidali.png HTTP/1.1              199\n",
       "GET /rip/img/0-06_06.png HTTP/1.1                  198\n",
       "GET /rip/jquery/jquery.form.js HTTP/1.1            192\n",
       "GET /rip/jquery/jquery-1.8.3.min.js HTTP/1.1       185\n",
       "GET /rip/jquery/rip_yishi.js HTTP/1.1              184\n",
       "GET /rip/img/page6_05.png HTTP/1.1                 180\n",
       "GET /rip/img/page6_10.png HTTP/1.1                 180\n",
       "GET /rip/img/page6_03.png HTTP/1.1                 180\n",
       "POST /rip/post_yishi.php HTTP/1.1                  162\n",
       "Name: Request, dtype: int64"
      ]
     },
     "execution_count": 21,
     "metadata": {},
     "output_type": "execute_result"
    }
   ],
   "source": [
    "df[\"Request\"].value_counts().head(20)"
   ]
  },
  {
   "cell_type": "code",
   "execution_count": 22,
   "metadata": {
    "collapsed": false
   },
   "outputs": [
    {
     "data": {
      "text/plain": [
       "101.8823709487915"
      ]
     },
     "execution_count": 22,
     "metadata": {},
     "output_type": "execute_result"
    }
   ],
   "source": [
    "df[\"b\"].sum()"
   ]
  },
  {
   "cell_type": "code",
   "execution_count": 29,
   "metadata": {
    "collapsed": false
   },
   "outputs": [
    {
     "data": {
      "text/plain": [
       "<matplotlib.axes._subplots.AxesSubplot at 0x7f0d9aef2b00>"
      ]
     },
     "execution_count": 29,
     "metadata": {},
     "output_type": "execute_result"
    },
    {
     "data": {
      "image/png": "[encoded data removed]",
      "text/plain": [
       "<matplotlib.figure.Figure at 0x7f0d9dcdcf60>"
      ]
     },
     "metadata": {},
     "output_type": "display_data"
    }
   ],
   "source": [
    "#统计流量\n",
    "fig = plt.figure(figsize=(10,5))\n",
    "df_traffic = df[\"b\"].resample('5t').sum()\n",
    "df_traffic.plot()"
   ]
  },
  {
   "cell_type": "code",
   "execution_count": null,
   "metadata": {
    "collapsed": true
   },
   "outputs": [],
   "source": []
  }
 ],
 "metadata": {
  "kernelspec": {
   "display_name": "Python 3",
   "language": "python",
   "name": "python3"
  },
  "language_info": {
   "codemirror_mode": {
    "name": "ipython",
    "version": 3
   },
   "file_extension": ".py",
   "mimetype": "text/x-python",
   "name": "python",
   "nbconvert_exporter": "python",
   "pygments_lexer": "ipython3",
   "version": "3.5.1"
  }
 },
 "nbformat": 4,
 "nbformat_minor": 0
}
