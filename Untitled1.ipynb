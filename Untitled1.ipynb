{
 "cells": [
  {
   "cell_type": "code",
   "execution_count": 1,
   "metadata": {
    "collapsed": true
   },
   "outputs": [],
   "source": [
    "import numpy as np\n",
    "import pandas as pd"
   ]
  },
  {
   "cell_type": "code",
   "execution_count": 2,
   "metadata": {
    "collapsed": true
   },
   "outputs": [],
   "source": [
    "np.*load*?"
   ]
  },
  {
   "cell_type": "code",
   "execution_count": 3,
   "metadata": {
    "collapsed": false
   },
   "outputs": [
    {
     "name": "stdout",
     "output_type": "stream",
     "text": [
      "123\n"
     ]
    }
   ],
   "source": [
    "print(123)"
   ]
  },
  {
   "cell_type": "code",
   "execution_count": 4,
   "metadata": {
    "collapsed": false
   },
   "outputs": [
    {
     "name": "stdout",
     "output_type": "stream",
     "text": [
      "345\n"
     ]
    }
   ],
   "source": [
    "print(345)"
   ]
  },
  {
   "cell_type": "code",
   "execution_count": 5,
   "metadata": {
    "collapsed": false
   },
   "outputs": [
    {
     "data": {
      "text/plain": [
       "''"
      ]
     },
     "execution_count": 5,
     "metadata": {},
     "output_type": "execute_result"
    }
   ],
   "source": [
    "_"
   ]
  },
  {
   "cell_type": "code",
   "execution_count": 6,
   "metadata": {
    "collapsed": false
   },
   "outputs": [
    {
     "data": {
      "text/plain": [
       "''"
      ]
     },
     "execution_count": 6,
     "metadata": {},
     "output_type": "execute_result"
    }
   ],
   "source": [
    "__"
   ]
  },
  {
   "cell_type": "code",
   "execution_count": 7,
   "metadata": {
    "collapsed": true
   },
   "outputs": [],
   "source": [
    "%bookmark data /sun/bigdata/data/"
   ]
  },
  {
   "cell_type": "code",
   "execution_count": 9,
   "metadata": {
    "collapsed": false
   },
   "outputs": [
    {
     "name": "stdout",
     "output_type": "stream",
     "text": [
      "Current bookmarks:\n",
      "data -> /sun/bigdata/data/\n"
     ]
    }
   ],
   "source": [
    "%bookmark -l"
   ]
  },
  {
   "cell_type": "code",
   "execution_count": 10,
   "metadata": {
    "collapsed": false
   },
   "outputs": [
    {
     "name": "stdout",
     "output_type": "stream",
     "text": [
      "/sun/bigdata/data\n"
     ]
    }
   ],
   "source": [
    "cd data/"
   ]
  },
  {
   "cell_type": "code",
   "execution_count": 11,
   "metadata": {
    "collapsed": false
   },
   "outputs": [
    {
     "data": {
      "text/plain": [
       "array([ 0.27022199,  0.88543098,  0.01950384,  0.56874469,  0.70411351,\n",
       "        0.34021659,  0.8447478 ,  0.52820625,  0.40675221,  0.40931835])"
      ]
     },
     "execution_count": 11,
     "metadata": {},
     "output_type": "execute_result"
    }
   ],
   "source": [
    "np.random.random(size=10)"
   ]
  },
  {
   "cell_type": "code",
   "execution_count": 12,
   "metadata": {
    "collapsed": false
   },
   "outputs": [
    {
     "data": {
      "text/plain": [
       "array([ 0.73205244,  0.65165975,  0.55943578,  0.96108079,  0.36447739,\n",
       "        0.22239227,  0.93106652,  0.05002538,  0.10007278,  0.65054551])"
      ]
     },
     "execution_count": 12,
     "metadata": {},
     "output_type": "execute_result"
    }
   ],
   "source": [
    "np.random.uniform(size=10)"
   ]
  },
  {
   "cell_type": "code",
   "execution_count": 15,
   "metadata": {
    "collapsed": false
   },
   "outputs": [],
   "source": [
    "import random\n",
    "steps = 100\n",
    "position = 0\n",
    "walk = [position]\n",
    "for _ in range(steps):\n",
    "    step = 1 if random.randint(0,1) else -1\n",
    "    position += step\n",
    "    walk.append(position)\n"
   ]
  },
  {
   "cell_type": "code",
   "execution_count": 16,
   "metadata": {
    "collapsed": false,
    "scrolled": true
   },
   "outputs": [
    {
     "data": {
      "text/plain": [
       "[0,\n",
       " 1,\n",
       " 2,\n",
       " 1,\n",
       " 0,\n",
       " -1,\n",
       " -2,\n",
       " -1,\n",
       " 0,\n",
       " -1,\n",
       " -2,\n",
       " -1,\n",
       " 0,\n",
       " 1,\n",
       " 2,\n",
       " 1,\n",
       " 2,\n",
       " 1,\n",
       " 2,\n",
       " 1,\n",
       " 0,\n",
       " 1,\n",
       " 0,\n",
       " 1,\n",
       " 2,\n",
       " 1,\n",
       " 0,\n",
       " -1,\n",
       " 0,\n",
       " -1,\n",
       " -2,\n",
       " -3,\n",
       " -4,\n",
       " -3,\n",
       " -4,\n",
       " -5,\n",
       " -6,\n",
       " -7,\n",
       " -6,\n",
       " -7,\n",
       " -6,\n",
       " -7,\n",
       " -8,\n",
       " -9,\n",
       " -10,\n",
       " -11,\n",
       " -10,\n",
       " -11,\n",
       " -10,\n",
       " -11,\n",
       " -10,\n",
       " -9,\n",
       " -10,\n",
       " -11,\n",
       " -10,\n",
       " -9,\n",
       " -10,\n",
       " -9,\n",
       " -8,\n",
       " -9,\n",
       " -8,\n",
       " -7,\n",
       " -8,\n",
       " -7,\n",
       " -6,\n",
       " -7,\n",
       " -8,\n",
       " -7,\n",
       " -8,\n",
       " -7,\n",
       " -8,\n",
       " -9,\n",
       " -8,\n",
       " -9,\n",
       " -10,\n",
       " -11,\n",
       " -12,\n",
       " -13,\n",
       " -12,\n",
       " -13,\n",
       " -14,\n",
       " -15,\n",
       " -16,\n",
       " -17,\n",
       " -18,\n",
       " -17,\n",
       " -16,\n",
       " -15,\n",
       " -16,\n",
       " -17,\n",
       " -16,\n",
       " -17,\n",
       " -16,\n",
       " -15,\n",
       " -16,\n",
       " -15,\n",
       " -16,\n",
       " -17,\n",
       " -16,\n",
       " -17,\n",
       " -18]"
      ]
     },
     "execution_count": 16,
     "metadata": {},
     "output_type": "execute_result"
    }
   ],
   "source": [
    "walk"
   ]
  },
  {
   "cell_type": "code",
   "execution_count": 18,
   "metadata": {
    "collapsed": false
   },
   "outputs": [],
   "source": [
    "import numpy as np\n",
    "n = 1000\n",
    "draws = np.random.randint(0,2,size=n)"
   ]
  },
  {
   "cell_type": "code",
   "execution_count": 19,
   "metadata": {
    "collapsed": true
   },
   "outputs": [],
   "source": [
    "steps = np.where(draws > 0, 1, -1)\n",
    "walk = steps.cumsum()"
   ]
  },
  {
   "cell_type": "code",
   "execution_count": 20,
   "metadata": {
    "collapsed": false,
    "scrolled": true
   },
   "outputs": [
    {
     "data": {
      "text/plain": [
       "array([ -1,  -2,  -1,   0,  -1,   0,   1,   0,  -1,  -2,  -3,  -2,  -1,\n",
       "         0,  -1,   0,   1,   2,   1,   0,  -1,  -2,  -3,  -2,  -1,   0,\n",
       "        -1,  -2,  -1,  -2,  -1,   0,   1,   0,  -1,  -2,  -3,  -2,  -3,\n",
       "        -4,  -5,  -4,  -5,  -4,  -3,  -4,  -5,  -4,  -5,  -6,  -5,  -4,\n",
       "        -3,  -4,  -3,  -2,  -3,  -4,  -5,  -4,  -5,  -4,  -3,  -2,  -3,\n",
       "        -4,  -3,  -2,  -3,  -2,  -3,  -2,  -1,   0,  -1,  -2,  -1,   0,\n",
       "        -1,  -2,  -1,  -2,  -3,  -2,  -3,  -2,  -1,  -2,  -1,  -2,  -3,\n",
       "        -4,  -5,  -6,  -7,  -8,  -7,  -8,  -7,  -8,  -9,  -8,  -9, -10,\n",
       "        -9,  -8,  -9, -10,  -9, -10,  -9, -10,  -9, -10, -11, -12, -11,\n",
       "       -12, -13, -14, -13, -12, -13, -12, -11, -10, -11, -12, -13, -14,\n",
       "       -13, -12, -13, -14, -13, -14, -15, -16, -15, -16, -15, -14, -13,\n",
       "       -14, -13, -12, -13, -12, -13, -12, -11, -10,  -9, -10,  -9,  -8,\n",
       "        -7,  -6,  -7,  -8,  -7,  -6,  -5,  -4,  -5,  -4,  -5,  -4,  -3,\n",
       "        -4,  -5,  -6,  -5,  -4,  -5,  -4,  -3,  -4,  -5,  -4,  -5,  -6,\n",
       "        -5,  -6,  -7,  -6,  -5,  -6,  -5,  -4,  -3,  -2,  -3,  -4,  -3,\n",
       "        -4,  -3,  -4,  -5,  -4,  -5,  -6,  -7,  -8,  -7,  -6,  -7,  -6,\n",
       "        -7,  -8,  -7,  -6,  -5,  -4,  -3,  -4,  -3,  -2,  -1,  -2,  -3,\n",
       "        -4,  -3,  -2,  -3,  -4,  -5,  -6,  -7,  -8,  -9, -10,  -9,  -8,\n",
       "        -7,  -6,  -7,  -8,  -9,  -8,  -9, -10, -11, -10,  -9, -10, -11,\n",
       "       -10,  -9,  -8,  -7,  -8,  -9,  -8,  -7,  -6,  -5,  -4,  -3,  -4,\n",
       "        -3,  -2,  -1,   0,  -1,   0,  -1,  -2,  -3,  -4,  -5,  -6,  -5,\n",
       "        -4,  -5,  -4,  -3,  -2,  -1,   0,   1,   2,   3,   4,   5,   6,\n",
       "         7,   6,   7,   6,   5,   4,   5,   4,   3,   2,   1,   2,   1,\n",
       "         0,  -1,  -2,  -1,   0,  -1,  -2,  -1,  -2,  -1,   0,  -1,  -2,\n",
       "        -3,  -4,  -5,  -6,  -5,  -6,  -5,  -6,  -7,  -6,  -5,  -4,  -3,\n",
       "        -2,  -1,  -2,  -1,   0,  -1,  -2,  -1,   0,   1,   0,  -1,  -2,\n",
       "        -1,  -2,  -1,  -2,  -3,  -4,  -5,  -4,  -3,  -4,  -3,  -4,  -3,\n",
       "        -4,  -5,  -4,  -3,  -2,  -1,  -2,  -3,  -4,  -3,  -2,  -1,  -2,\n",
       "        -3,  -4,  -5,  -6,  -7,  -6,  -5,  -4,  -3,  -2,  -1,   0,  -1,\n",
       "         0,   1,   0,  -1,  -2,  -1,  -2,  -1,  -2,  -3,  -4,  -5,  -6,\n",
       "        -5,  -6,  -5,  -6,  -5,  -6,  -5,  -6,  -5,  -6,  -5,  -6,  -7,\n",
       "        -6,  -5,  -6,  -5,  -4,  -3,  -2,  -3,  -2,  -3,  -4,  -5,  -4,\n",
       "        -3,  -4,  -3,  -2,  -3,  -4,  -5,  -4,  -3,  -2,  -1,  -2,  -1,\n",
       "        -2,  -3,  -2,  -3,  -4,  -5,  -6,  -5,  -4,  -3,  -4,  -3,  -4,\n",
       "        -5,  -6,  -5,  -6,  -7,  -8,  -9,  -8,  -7,  -6,  -7,  -6,  -5,\n",
       "        -4,  -5,  -6,  -5,  -4,  -5,  -4,  -5,  -4,  -3,  -4,  -5,  -6,\n",
       "        -7,  -6,  -7,  -6,  -7,  -6,  -5,  -4,  -5,  -6,  -7,  -6,  -5,\n",
       "        -4,  -3,  -4,  -3,  -4,  -3,  -2,  -1,  -2,  -3,  -2,  -3,  -4,\n",
       "        -3,  -2,  -1,   0,  -1,  -2,  -1,   0,  -1,  -2,  -1,   0,   1,\n",
       "         2,   3,   2,   3,   2,   1,   0,   1,   2,   3,   4,   3,   4,\n",
       "         3,   2,   1,   2,   3,   4,   5,   6,   5,   4,   3,   2,   3,\n",
       "         4,   3,   4,   3,   4,   3,   4,   3,   4,   3,   2,   1,   2,\n",
       "         1,   2,   3,   2,   1,   0,   1,   2,   3,   4,   3,   4,   3,\n",
       "         2,   1,   0,   1,   0,  -1,   0,  -1,  -2,  -1,  -2,  -3,  -2,\n",
       "        -1,   0,   1,   2,   3,   4,   5,   6,   7,   8,   7,   8,   7,\n",
       "         8,   7,   6,   7,   8,   9,   8,   9,  10,   9,  10,   9,   8,\n",
       "         7,   8,   7,   8,   9,  10,  11,  12,  11,  12,  13,  14,  15,\n",
       "        14,  15,  16,  15,  14,  13,  12,  11,  12,  11,  10,   9,  10,\n",
       "         9,  10,  11,  10,   9,  10,  11,  12,  13,  14,  15,  14,  13,\n",
       "        12,  13,  14,  15,  16,  15,  14,  13,  12,  13,  12,  11,  10,\n",
       "        11,  10,  11,  10,   9,   8,   7,   6,   7,   6,   7,   6,   7,\n",
       "         6,   7,   6,   5,   4,   3,   2,   3,   2,   1,   0,   1,   0,\n",
       "         1,   0,   1,   2,   1,   0,  -1,   0,  -1,   0,  -1,   0,   1,\n",
       "         0,   1,   2,   1,   2,   3,   2,   1,   2,   1,   0,  -1,  -2,\n",
       "        -1,  -2,  -1,   0,   1,   0,   1,   0,   1,   2,   3,   2,   3,\n",
       "         2,   3,   2,   3,   2,   1,   2,   1,   0,  -1,  -2,  -1,  -2,\n",
       "        -1,   0,  -1,   0,   1,   2,   1,   2,   1,   2,   3,   4,   3,\n",
       "         4,   5,   6,   5,   6,   7,   6,   7,   6,   5,   6,   5,   6,\n",
       "         5,   4,   3,   4,   5,   4,   5,   4,   3,   2,   3,   2,   3,\n",
       "         2,   3,   4,   3,   2,   3,   2,   1,   0,  -1,   0,   1,   0,\n",
       "        -1,  -2,  -3,  -2,  -1,   0,  -1,  -2,  -1,   0,  -1,   0,   1,\n",
       "         2,   1,   2,   1,   2,   3,   2,   1,   2,   1,   2,   1,   2,\n",
       "         1,   2,   3,   4,   5,   4,   3,   4,   3,   2,   1,   0,  -1,\n",
       "        -2,  -3,  -4,  -3,  -4,  -3,  -2,  -3,  -4,  -5,  -6,  -7,  -8,\n",
       "        -9, -10,  -9, -10, -11, -10,  -9,  -8,  -9, -10,  -9, -10, -11,\n",
       "       -10,  -9, -10, -11, -12, -13, -12, -11, -10,  -9, -10,  -9, -10,\n",
       "       -11, -12, -13, -12, -13, -12, -11, -12, -13, -14, -15, -16, -17,\n",
       "       -16, -17, -16, -17, -18, -17, -18, -17, -16, -15, -14, -15, -16,\n",
       "       -17, -18, -19, -20, -21, -20, -21, -22, -23, -22, -21, -22, -21,\n",
       "       -22, -21, -22, -21, -20, -19, -18, -19, -18, -19, -20, -19, -20,\n",
       "       -21, -20, -19, -18, -19, -18, -19, -18, -17, -18, -17, -18, -17,\n",
       "       -16, -17, -16, -17, -18, -17, -18, -17, -18, -17, -16, -17, -16,\n",
       "       -17, -16, -15, -16, -17, -16, -15, -16, -17, -18, -17, -18, -19,\n",
       "       -20, -21, -22, -21, -20, -19, -18, -19, -18, -17, -16, -17, -16,\n",
       "       -17, -16, -15, -14, -13, -12, -11, -10, -11, -10, -11, -10,  -9,\n",
       "       -10,  -9, -10, -11, -10, -11, -12, -11, -10,  -9,  -8,  -9,  -8,\n",
       "        -9,  -8,  -9, -10,  -9,  -8,  -9, -10,  -9,  -8,  -9, -10])"
      ]
     },
     "execution_count": 20,
     "metadata": {},
     "output_type": "execute_result"
    }
   ],
   "source": [
    "walk"
   ]
  },
  {
   "cell_type": "code",
   "execution_count": 21,
   "metadata": {
    "collapsed": false
   },
   "outputs": [
    {
     "data": {
      "text/plain": [
       "-23"
      ]
     },
     "execution_count": 21,
     "metadata": {},
     "output_type": "execute_result"
    }
   ],
   "source": [
    "walk.min()"
   ]
  },
  {
   "cell_type": "code",
   "execution_count": 22,
   "metadata": {
    "collapsed": false
   },
   "outputs": [
    {
     "data": {
      "text/plain": [
       "16"
      ]
     },
     "execution_count": 22,
     "metadata": {},
     "output_type": "execute_result"
    }
   ],
   "source": [
    "walk.max()"
   ]
  },
  {
   "cell_type": "code",
   "execution_count": 26,
   "metadata": {
    "collapsed": false
   },
   "outputs": [
    {
     "data": {
      "text/plain": [
       "613"
      ]
     },
     "execution_count": 26,
     "metadata": {},
     "output_type": "execute_result"
    }
   ],
   "source": [
    "walk.argmax()"
   ]
  },
  {
   "cell_type": "code",
   "execution_count": 27,
   "metadata": {
    "collapsed": false
   },
   "outputs": [
    {
     "data": {
      "text/plain": [
       "16"
      ]
     },
     "execution_count": 27,
     "metadata": {},
     "output_type": "execute_result"
    }
   ],
   "source": [
    "walk[613]"
   ]
  },
  {
   "cell_type": "code",
   "execution_count": 29,
   "metadata": {
    "collapsed": false,
    "scrolled": true
   },
   "outputs": [
    {
     "data": {
      "text/plain": [
       "137"
      ]
     },
     "execution_count": 29,
     "metadata": {},
     "output_type": "execute_result"
    }
   ],
   "source": [
    "(np.abs(walk) > 15).argmax()"
   ]
  },
  {
   "cell_type": "code",
   "execution_count": 30,
   "metadata": {
    "collapsed": false
   },
   "outputs": [
    {
     "data": {
      "text/plain": [
       "-16"
      ]
     },
     "execution_count": 30,
     "metadata": {},
     "output_type": "execute_result"
    }
   ],
   "source": [
    "walk[137]"
   ]
  },
  {
   "cell_type": "code",
   "execution_count": 31,
   "metadata": {
    "collapsed": false
   },
   "outputs": [
    {
     "data": {
      "text/plain": [
       "892"
      ]
     },
     "execution_count": 31,
     "metadata": {},
     "output_type": "execute_result"
    }
   ],
   "source": [
    "walk.argmin()"
   ]
  },
  {
   "cell_type": "code",
   "execution_count": 32,
   "metadata": {
    "collapsed": false,
    "scrolled": true
   },
   "outputs": [
    {
     "data": {
      "text/plain": [
       "array([False, False, False, False, False, False, False, False, False,\n",
       "       False, False, False, False, False, False, False, False, False,\n",
       "       False, False, False, False, False, False, False, False, False,\n",
       "       False, False, False, False, False, False, False, False, False,\n",
       "       False, False, False, False, False, False, False, False, False,\n",
       "       False, False, False, False, False, False, False, False, False,\n",
       "       False, False, False, False, False, False, False, False, False,\n",
       "       False, False, False, False, False, False, False, False, False,\n",
       "       False, False, False, False, False, False, False, False, False,\n",
       "       False, False, False, False, False, False, False, False, False,\n",
       "       False, False, False, False, False, False, False, False, False,\n",
       "       False, False, False, False, False, False, False, False, False,\n",
       "       False, False, False, False, False, False, False, False, False,\n",
       "       False, False, False, False, False, False, False, False, False,\n",
       "       False, False, False, False, False, False, False, False, False,\n",
       "       False, False, False, False, False, False, False, False, False,\n",
       "       False, False, False, False, False, False, False, False, False,\n",
       "       False, False, False, False, False, False, False, False, False,\n",
       "       False, False, False, False, False, False, False, False, False,\n",
       "       False, False, False, False, False, False, False, False, False,\n",
       "       False, False, False, False, False, False, False, False, False,\n",
       "       False, False, False, False, False, False, False, False, False,\n",
       "       False, False, False, False, False, False, False, False, False,\n",
       "       False, False, False, False, False, False, False, False, False,\n",
       "       False, False, False, False, False, False, False, False, False,\n",
       "       False, False, False, False, False, False, False, False, False,\n",
       "       False, False, False, False, False, False, False, False, False,\n",
       "       False, False, False, False, False, False, False, False, False,\n",
       "       False, False, False, False, False, False, False, False, False,\n",
       "       False, False, False, False, False, False, False, False, False,\n",
       "       False, False, False, False, False, False, False, False, False,\n",
       "       False, False, False, False, False, False, False, False, False,\n",
       "       False, False, False, False, False, False, False, False, False,\n",
       "       False, False, False, False, False, False, False, False, False,\n",
       "       False, False, False, False, False, False, False, False, False,\n",
       "       False, False, False, False, False, False, False, False, False,\n",
       "       False, False, False, False, False, False, False, False, False,\n",
       "       False, False, False, False, False, False, False, False, False,\n",
       "       False, False, False, False, False, False, False, False, False,\n",
       "       False, False, False, False, False, False, False, False, False,\n",
       "       False, False, False, False, False, False, False, False, False,\n",
       "       False, False, False, False, False, False, False, False, False,\n",
       "       False, False, False, False, False, False, False, False, False,\n",
       "       False, False, False, False, False, False, False, False, False,\n",
       "       False, False, False, False, False, False, False, False, False,\n",
       "       False, False, False, False, False, False, False, False, False,\n",
       "       False, False, False, False, False, False, False, False, False,\n",
       "       False, False, False, False, False, False, False, False, False,\n",
       "       False, False, False, False, False, False, False, False, False,\n",
       "       False, False, False, False, False, False, False, False, False,\n",
       "       False, False, False, False, False, False, False, False, False,\n",
       "       False, False, False, False, False, False, False, False, False,\n",
       "       False, False, False, False, False, False, False, False, False,\n",
       "       False, False, False, False, False, False, False, False, False,\n",
       "       False, False, False, False, False, False, False, False, False,\n",
       "       False, False, False, False, False, False, False, False, False,\n",
       "       False, False, False, False, False, False, False, False, False,\n",
       "       False, False, False, False, False, False, False, False, False,\n",
       "       False, False, False, False, False, False, False, False, False,\n",
       "       False, False, False, False, False, False, False, False, False,\n",
       "       False, False, False, False, False, False, False, False, False,\n",
       "       False, False, False, False, False, False, False, False, False,\n",
       "       False, False, False, False, False, False, False, False, False,\n",
       "       False, False, False, False, False, False, False, False, False,\n",
       "       False, False, False, False, False, False, False, False, False,\n",
       "       False, False, False, False, False, False, False, False, False,\n",
       "       False, False, False, False, False, False, False, False, False,\n",
       "       False, False, False, False, False, False, False, False, False,\n",
       "       False, False, False, False, False, False, False, False, False,\n",
       "       False, False, False, False, False, False, False, False, False,\n",
       "       False, False, False, False, False, False, False, False, False,\n",
       "       False, False, False, False, False, False, False, False, False,\n",
       "       False, False, False, False, False, False, False, False, False,\n",
       "       False, False, False, False, False, False, False, False, False,\n",
       "       False, False, False, False, False, False, False, False, False,\n",
       "       False, False, False, False, False, False, False, False, False,\n",
       "       False, False, False, False, False, False, False, False, False,\n",
       "       False, False, False, False, False, False, False, False, False,\n",
       "       False, False, False, False, False, False, False, False, False,\n",
       "       False, False, False, False, False, False, False, False, False,\n",
       "       False, False, False, False, False, False, False, False, False,\n",
       "       False, False, False, False, False, False, False, False, False,\n",
       "       False, False, False, False, False, False, False, False, False,\n",
       "       False, False, False, False, False, False, False, False, False,\n",
       "       False, False, False, False, False, False, False, False, False,\n",
       "       False, False, False, False, False, False, False, False, False,\n",
       "       False, False, False, False, False, False, False, False, False,\n",
       "       False, False, False, False, False, False, False, False, False,\n",
       "       False, False, False, False, False, False, False, False, False,\n",
       "       False, False, False, False, False, False, False, False, False,\n",
       "       False, False, False, False, False, False, False, False, False,\n",
       "       False, False, False, False, False, False, False, False, False,\n",
       "       False, False, False, False, False, False, False, False, False,\n",
       "       False, False, False, False, False, False, False, False, False,\n",
       "       False, False, False, False, False, False, False, False, False,\n",
       "       False, False, False, False, False, False, False, False, False,\n",
       "       False, False, False, False, False, False, False, False, False,\n",
       "       False, False, False, False, False, False, False, False, False,\n",
       "       False, False, False, False, False,  True,  True,  True,  True,\n",
       "        True,  True,  True,  True,  True,  True,  True,  True,  True,\n",
       "        True,  True, False, False, False, False, False,  True, False,\n",
       "        True,  True,  True, False, False, False, False, False, False,\n",
       "       False, False, False, False, False, False, False, False, False,\n",
       "       False, False, False, False, False, False, False, False, False,\n",
       "       False, False, False, False, False, False, False, False, False,\n",
       "       False, False, False, False,  True,  True,  True,  True,  True,\n",
       "       False, False, False, False, False, False, False, False, False,\n",
       "       False, False, False, False, False, False, False, False, False,\n",
       "       False, False, False, False, False, False, False, False, False,\n",
       "       False, False, False, False, False, False, False, False, False,\n",
       "       False, False, False, False, False, False, False, False, False, False], dtype=bool)"
      ]
     },
     "execution_count": 32,
     "metadata": {},
     "output_type": "execute_result"
    }
   ],
   "source": [
    "hist20 = (np.abs(walk) >= 20)\n",
    "hist20"
   ]
  },
  {
   "cell_type": "code",
   "execution_count": 34,
   "metadata": {
    "collapsed": false
   },
   "outputs": [
    {
     "data": {
      "text/plain": [
       "24"
      ]
     },
     "execution_count": 34,
     "metadata": {},
     "output_type": "execute_result"
    }
   ],
   "source": [
    "hist20.sum()"
   ]
  },
  {
   "cell_type": "code",
   "execution_count": 35,
   "metadata": {
    "collapsed": true
   },
   "outputs": [],
   "source": [
    "from pandas import DataFrame"
   ]
  },
  {
   "cell_type": "code",
   "execution_count": 36,
   "metadata": {
    "collapsed": true
   },
   "outputs": [],
   "source": [
    "df = DataFrame({'key1':['a','b','c','a','c'],\n",
    "               'key2':['one','two','one','two','three'],\n",
    "               'data1':np.random.randn(5),\n",
    "               'data2':np.random.randn(5)})"
   ]
  },
  {
   "cell_type": "code",
   "execution_count": 37,
   "metadata": {
    "collapsed": false
   },
   "outputs": [
    {
     "data": {
      "text/html": [
       "<div>\n",
       "<table border=\"1\" class=\"dataframe\">\n",
       "  <thead>\n",
       "    <tr style=\"text-align: right;\">\n",
       "      <th></th>\n",
       "      <th>data1</th>\n",
       "      <th>data2</th>\n",
       "      <th>key1</th>\n",
       "      <th>key2</th>\n",
       "    </tr>\n",
       "  </thead>\n",
       "  <tbody>\n",
       "    <tr>\n",
       "      <th>0</th>\n",
       "      <td>1.231777</td>\n",
       "      <td>-0.755909</td>\n",
       "      <td>a</td>\n",
       "      <td>one</td>\n",
       "    </tr>\n",
       "    <tr>\n",
       "      <th>1</th>\n",
       "      <td>1.146525</td>\n",
       "      <td>-0.095242</td>\n",
       "      <td>b</td>\n",
       "      <td>two</td>\n",
       "    </tr>\n",
       "    <tr>\n",
       "      <th>2</th>\n",
       "      <td>-0.792461</td>\n",
       "      <td>-1.018753</td>\n",
       "      <td>c</td>\n",
       "      <td>one</td>\n",
       "    </tr>\n",
       "    <tr>\n",
       "      <th>3</th>\n",
       "      <td>0.429975</td>\n",
       "      <td>-0.166807</td>\n",
       "      <td>a</td>\n",
       "      <td>two</td>\n",
       "    </tr>\n",
       "    <tr>\n",
       "      <th>4</th>\n",
       "      <td>0.257907</td>\n",
       "      <td>0.162654</td>\n",
       "      <td>c</td>\n",
       "      <td>three</td>\n",
       "    </tr>\n",
       "  </tbody>\n",
       "</table>\n",
       "</div>"
      ],
      "text/plain": [
       "      data1     data2 key1   key2\n",
       "0  1.231777 -0.755909    a    one\n",
       "1  1.146525 -0.095242    b    two\n",
       "2 -0.792461 -1.018753    c    one\n",
       "3  0.429975 -0.166807    a    two\n",
       "4  0.257907  0.162654    c  three"
      ]
     },
     "execution_count": 37,
     "metadata": {},
     "output_type": "execute_result"
    }
   ],
   "source": [
    "df"
   ]
  },
  {
   "cell_type": "code",
   "execution_count": null,
   "metadata": {
    "collapsed": true
   },
   "outputs": [],
   "source": []
  }
 ],
 "metadata": {
  "kernelspec": {
   "display_name": "Python 3",
   "language": "python",
   "name": "python3"
  },
  "language_info": {
   "codemirror_mode": {
    "name": "ipython",
    "version": 3
   },
   "file_extension": ".py",
   "mimetype": "text/x-python",
   "name": "python",
   "nbconvert_exporter": "python",
   "pygments_lexer": "ipython3",
   "version": "3.5.1"
  }
 },
 "nbformat": 4,
 "nbformat_minor": 0
}
