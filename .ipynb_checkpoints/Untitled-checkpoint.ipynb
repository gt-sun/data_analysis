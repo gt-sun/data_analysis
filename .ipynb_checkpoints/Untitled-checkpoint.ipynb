{
 "cells": [
  {
   "cell_type": "code",
   "execution_count": 24,
   "metadata": {
    "collapsed": false
   },
   "outputs": [
    {
     "name": "stdout",
     "output_type": "stream",
     "text": [
      "[2, 3]\n"
     ]
    }
   ],
   "source": [
    "import random\n",
    "\n",
    "def random_func():\n",
    "    def make_list(a,b):\n",
    "        return [a,b]\n",
    "    def add(a,b):\n",
    "        return a + b\n",
    "    actions = [make_list, add]\n",
    "    return random.choice(actions)\n",
    "\n",
    "a = random_func()\n",
    "print(a(2,3))"
   ]
  },
  {
   "cell_type": "code",
   "execution_count": 11,
   "metadata": {
    "collapsed": false
   },
   "outputs": [
    {
     "name": "stdout",
     "output_type": "stream",
     "text": [
      "1 2\n",
      "3\n"
     ]
    }
   ],
   "source": [
    "def fun(funA):\n",
    "    def funB(a,b):\n",
    "        print(a,b)\n",
    "        return funA(a,b)\n",
    "    return funB\n",
    "\n",
    "def funA(a,b):\n",
    "    print(a+b)\n",
    "funB = fun(funA)\n",
    "funB(1,2)\n",
    "    "
   ]
  },
  {
   "cell_type": "code",
   "execution_count": 13,
   "metadata": {
    "collapsed": false
   },
   "outputs": [
    {
     "name": "stdout",
     "output_type": "stream",
     "text": [
      "2 3\n",
      "5\n"
     ]
    }
   ],
   "source": [
    "@fun\n",
    "def funC(a,b):\n",
    "    print(a+b)\n",
    "\n",
    "funC(2,3)"
   ]
  }
 ],
 "metadata": {
  "kernelspec": {
   "display_name": "Python 3",
   "language": "python",
   "name": "python3"
  },
  "language_info": {
   "codemirror_mode": {
    "name": "ipython",
    "version": 3
   },
   "file_extension": ".py",
   "mimetype": "text/x-python",
   "name": "python",
   "nbconvert_exporter": "python",
   "pygments_lexer": "ipython3",
   "version": "3.5.1"
  }
 },
 "nbformat": 4,
 "nbformat_minor": 0
}
